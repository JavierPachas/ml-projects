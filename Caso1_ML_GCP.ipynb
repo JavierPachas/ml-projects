{
  "cells": [
    {
      "cell_type": "markdown",
      "source": [
        "## Caso: Consumo de energía"
      ],
      "metadata": {
        "id": "ftTNJTQHKgwp"
      }
    },
    {
      "cell_type": "markdown",
      "source": [
        "## Lectura de datos"
      ],
      "metadata": {
        "id": "BLIrcNQfKyGV"
      }
    },
    {
      "cell_type": "code",
      "execution_count": null,
      "metadata": {
        "id": "4zUfowkt-NYH"
      },
      "outputs": [],
      "source": [
        "import pandas as pd\n",
        "import numpy  as np\n",
        "import plotly.express as px"
      ]
    },
    {
      "cell_type": "code",
      "source": [
        "#from google.colab import drive\n",
        "#drive.mount('/gdrive')"
      ],
      "metadata": {
        "id": "-IMIkFA4LBko"
      },
      "execution_count": null,
      "outputs": []
    },
    {
      "cell_type": "code",
      "source": [
        "energydata = pd.read_csv('/gdrive/My Drive/Colab Notebooks/datos/KAG_energydata_complete.csv', parse_dates=[0])"
      ],
      "metadata": {
        "id": "sI7shYBdLaqd"
      },
      "execution_count": null,
      "outputs": []
    },
    {
      "cell_type": "code",
      "execution_count": null,
      "metadata": {
        "id": "BN9mLwyY-NYO"
      },
      "outputs": [],
      "source": [
        "energydata.head(3)"
      ]
    },
    {
      "cell_type": "markdown",
      "metadata": {
        "id": "-53cQ9b3-NYQ"
      },
      "source": [
        "## Estadística descriptiva"
      ]
    },
    {
      "cell_type": "code",
      "execution_count": null,
      "metadata": {
        "id": "x_8z4slC-NYS"
      },
      "outputs": [],
      "source": [
        "resumen = energydata.describe().T\n",
        "resumen"
      ]
    },
    {
      "cell_type": "code",
      "source": [
        "resumen['cv'] = resumen.iloc[:,2] / resumen.iloc[:,1] * 100\n",
        "resumen"
      ],
      "metadata": {
        "id": "IC5EXTHtPV6k"
      },
      "execution_count": null,
      "outputs": []
    },
    {
      "cell_type": "code",
      "source": [
        "resumen['as'] = (3 * (resumen.iloc[:,1] - resumen.iloc[:,5]))/ resumen.iloc[:,2]\n",
        "resumen"
      ],
      "metadata": {
        "id": "t3bn3AQsQRgm"
      },
      "execution_count": null,
      "outputs": []
    },
    {
      "cell_type": "code",
      "execution_count": null,
      "metadata": {
        "id": "HJt0IWBu-NYT"
      },
      "outputs": [],
      "source": [
        "## Curstosis\n",
        "resumen['cur'] = energydata.skew()\n",
        "resumen"
      ]
    },
    {
      "cell_type": "markdown",
      "metadata": {
        "id": "tIQ97mhD-NYU"
      },
      "source": [
        "## Interpretaciones de estadísticos descriptivos"
      ]
    },
    {
      "cell_type": "markdown",
      "metadata": {
        "id": "qjTgEVYt-NYV"
      },
      "source": [
        "#### La medía del gasto energético es de 97.7 Wh (Watt-hora)\n",
        "#### la diferencia del gasto energético alrededor de la media, en promedio, es de 102 Wh (Watt-hora)\n",
        "#### Appliances tiene un valor de curtosisde 3.38 (>3) entonces su distribución es Leptocúrtica"
      ]
    },
    {
      "cell_type": "markdown",
      "metadata": {
        "id": "8-1N_pmg-NYV"
      },
      "source": [
        "## Graficos Estadísticos y valores atípicos"
      ]
    },
    {
      "cell_type": "code",
      "execution_count": null,
      "metadata": {
        "id": "C_818bdr-NYW"
      },
      "outputs": [],
      "source": [
        "fig = px.box(energydata, y=\"Appliances\" , title=\"Box plot of Appliances\")\n",
        "fig.show()"
      ]
    },
    {
      "cell_type": "code",
      "execution_count": null,
      "metadata": {
        "id": "vmczGboP-NYX"
      },
      "outputs": [],
      "source": [
        "# import plotly.express as px\n",
        "fig = px.histogram(energydata, x =\"Appliances\" , title=\"Histogram of Appliances\")\n",
        "fig.show()"
      ]
    },
    {
      "cell_type": "code",
      "source": [
        "var = energydata['Appliances'].values\n",
        "var"
      ],
      "metadata": {
        "id": "LB6BbeOUSOZ_"
      },
      "execution_count": null,
      "outputs": []
    },
    {
      "cell_type": "code",
      "execution_count": null,
      "metadata": {
        "id": "NFHV7_Kp-NYY"
      },
      "outputs": [],
      "source": [
        "# Para detectar los valores atipicos debemos calcular el IQR, en el caso de Appliances :\n",
        "Q1 = np.percentile(var, 25)\n",
        "Q3 = np.percentile(var, 75)"
      ]
    },
    {
      "cell_type": "code",
      "source": [
        "Q1, Q3"
      ],
      "metadata": {
        "id": "KzeehYMKTnwx"
      },
      "execution_count": null,
      "outputs": []
    },
    {
      "cell_type": "code",
      "execution_count": null,
      "metadata": {
        "id": "_qbvdMfq-NYY"
      },
      "outputs": [],
      "source": [
        "IRQ = Q3 - Q1\n",
        "Limite_inf = Q1 - 1.5 * IRQ\n",
        "Limite_sub = Q3 + 1.5 * IRQ"
      ]
    },
    {
      "cell_type": "code",
      "source": [
        "Limite_inf, Limite_sub"
      ],
      "metadata": {
        "id": "uoJD4eKcUGuL"
      },
      "execution_count": null,
      "outputs": []
    },
    {
      "cell_type": "code",
      "execution_count": null,
      "metadata": {
        "id": "wLiPG5-q-NYZ"
      },
      "outputs": [],
      "source": [
        "energydata_sin_outliers = energydata[(energydata.Appliances > Limite_inf) & (energydata.Appliances <Limite_sub)]"
      ]
    },
    {
      "cell_type": "code",
      "source": [
        "energydata.shape, energydata_sin_outliers.shape"
      ],
      "metadata": {
        "id": "PUyArHdPVGox"
      },
      "execution_count": null,
      "outputs": []
    },
    {
      "cell_type": "code",
      "execution_count": null,
      "metadata": {
        "id": "5a0eWj8J-NYZ"
      },
      "outputs": [],
      "source": [
        "fig = px.box(energydata_sin_outliers, y=\"Appliances\" , title=\"Box plot of Appliances cleaned\")\n",
        "fig.show()"
      ]
    },
    {
      "cell_type": "code",
      "execution_count": null,
      "metadata": {
        "id": "z4anfSis-NYa"
      },
      "outputs": [],
      "source": [
        "# import plotly.express as px\n",
        "fig = px.histogram(energydata_sin_outliers, x =\"Appliances\" , title=\"Histogram of Appliances cleaned\")\n",
        "fig.show()"
      ]
    },
    {
      "cell_type": "markdown",
      "metadata": {
        "id": "WnKYeEew-NYa"
      },
      "source": [
        "#### Cuanto uno remueve los valores atípcos, suele suceder que otras observaciones pasen a ser los nuevos valores outliers, pero\n",
        "#### como se ha notado, la visualización y observación de la distribución de los datos ha mejorado muchísismo"
      ]
    },
    {
      "cell_type": "markdown",
      "metadata": {
        "id": "FHCy_cQr-NYb"
      },
      "source": [
        "## Valores perdidos e imputación"
      ]
    },
    {
      "cell_type": "code",
      "execution_count": null,
      "metadata": {
        "id": "DEXajVC8-NYb"
      },
      "outputs": [],
      "source": [
        "import random"
      ]
    },
    {
      "cell_type": "code",
      "execution_count": null,
      "metadata": {
        "id": "x0aADRmT-NYc"
      },
      "outputs": [],
      "source": [
        "energydata.shape"
      ]
    },
    {
      "cell_type": "code",
      "execution_count": null,
      "metadata": {
        "id": "Atjci5Ja-NYc"
      },
      "outputs": [],
      "source": [
        "random.seed(6)\n",
        "lista_aleatoria = random.sample(range(19735), 1000)"
      ]
    },
    {
      "cell_type": "code",
      "execution_count": null,
      "metadata": {
        "id": "qZAenk2K-NYd"
      },
      "outputs": [],
      "source": [
        "lista_aleatoria"
      ]
    },
    {
      "cell_type": "code",
      "execution_count": null,
      "metadata": {
        "id": "zYm66iHc-NYd"
      },
      "outputs": [],
      "source": [
        "energydata_missing = energydata.copy()\n",
        "energydata_missing.loc[lista_aleatoria,\"Appliances\"] = np.nan"
      ]
    },
    {
      "cell_type": "code",
      "execution_count": null,
      "metadata": {
        "id": "s2ZQkReY-NYe"
      },
      "outputs": [],
      "source": [
        "## Se han generado 1000 valores perdidos en la variable Appliances para utiliar los métodos de imputación\n",
        "energydata_missing.describe().T"
      ]
    },
    {
      "cell_type": "markdown",
      "source": [
        "Imputación por medidas de tendencia central"
      ],
      "metadata": {
        "id": "DSdy8QQqoeq9"
      }
    },
    {
      "cell_type": "code",
      "execution_count": null,
      "metadata": {
        "id": "fBB0l5YS-NYf"
      },
      "outputs": [],
      "source": [
        "energydata_missing_media  = energydata_missing.fillna(energydata_missing['Appliances'].mean()).copy()"
      ]
    },
    {
      "cell_type": "code",
      "source": [
        "energydata_missing_median = energydata_missing.fillna(energydata_missing['Appliances'].median()).copy()"
      ],
      "metadata": {
        "id": "n50rggBYbI1q"
      },
      "execution_count": null,
      "outputs": []
    },
    {
      "cell_type": "markdown",
      "source": [
        "Imputación por algoritmo KNN"
      ],
      "metadata": {
        "id": "5fGU5QIXopI3"
      }
    },
    {
      "cell_type": "code",
      "execution_count": null,
      "metadata": {
        "id": "Zkb6EmSb-NYf"
      },
      "outputs": [],
      "source": [
        "from sklearn.impute import KNNImputer\n",
        "\n",
        "energydata_missing_knn = energydata_missing.copy()\n",
        "# Construimos el modelo\n",
        "imputer = KNNImputer(n_neighbors=3, weights=\"uniform\")\n",
        "\n",
        "# Ajustamos el modelo e imputamos los missing values\n",
        "imputer.fit(energydata_missing_knn[['Appliances']])\n",
        "energydata_missing_knn['Appliances'] = imputer.transform(energydata_missing_knn[['Appliances']]).ravel()"
      ]
    },
    {
      "cell_type": "code",
      "execution_count": null,
      "metadata": {
        "id": "ZoQgiONW-NYf"
      },
      "outputs": [],
      "source": [
        "energydata[['Appliances']].describe().T"
      ]
    },
    {
      "cell_type": "code",
      "execution_count": null,
      "metadata": {
        "id": "L3nUWjdt-NYg"
      },
      "outputs": [],
      "source": [
        "energydata_missing_media[['Appliances']].describe().T"
      ]
    },
    {
      "cell_type": "code",
      "execution_count": null,
      "metadata": {
        "id": "eAu-Ob-n-NYg"
      },
      "outputs": [],
      "source": [
        "energydata_missing_median[['Appliances']].describe().T"
      ]
    },
    {
      "cell_type": "code",
      "execution_count": null,
      "metadata": {
        "id": "EwMWc-sD-NYh"
      },
      "outputs": [],
      "source": [
        "energydata_missing_knn[['Appliances']].describe().T"
      ]
    },
    {
      "cell_type": "markdown",
      "source": [
        "Imputación por Regresión Lineal"
      ],
      "metadata": {
        "id": "xtGnqS0apIEb"
      }
    },
    {
      "cell_type": "code",
      "source": [
        "energydata_missing_lm = energydata_missing.copy()"
      ],
      "metadata": {
        "id": "vuxEC3Xzo0e5"
      },
      "execution_count": null,
      "outputs": []
    },
    {
      "cell_type": "code",
      "source": [
        "energydata_missing_lm.describe().T"
      ],
      "metadata": {
        "id": "L7KLAY1abzhR"
      },
      "execution_count": null,
      "outputs": []
    },
    {
      "cell_type": "code",
      "source": [
        "energydata_missing_lm_complete = energydata_missing_lm[~energydata_missing_lm.Appliances.isna()]\n",
        "energydata_missing_lm_complete.describe().T"
      ],
      "metadata": {
        "id": "RLHH33dJpUCv"
      },
      "execution_count": null,
      "outputs": []
    },
    {
      "cell_type": "code",
      "source": [
        "print(energydata_missing_lm.shape)\n",
        "print(energydata_missing_lm_complete.shape)"
      ],
      "metadata": {
        "id": "JvIdKwwXpsqQ"
      },
      "execution_count": null,
      "outputs": []
    },
    {
      "cell_type": "code",
      "source": [
        "## En un modelo de regresión debemos escoger SOLAMENTE la variables numéricas como \"predictoras\" \n",
        "## Por lo que si queremos predecir la variable \"Appliances\" no puede ser parte de las predictoras\n",
        "## Y la variable 'date' se descarta porque no es una variable numérica.\n",
        "parameters = [x for x in energydata_missing_lm.columns if x not in ['date','Appliances']]"
      ],
      "metadata": {
        "id": "xft7F0hhp3zz"
      },
      "execution_count": null,
      "outputs": []
    },
    {
      "cell_type": "code",
      "source": [
        "parameters"
      ],
      "metadata": {
        "id": "W5mYREyCqGcw"
      },
      "execution_count": null,
      "outputs": []
    },
    {
      "cell_type": "code",
      "source": [
        "from sklearn import linear_model\n",
        "\n",
        "model = linear_model.LinearRegression()\n",
        "model.fit(X = energydata_missing_lm_complete[parameters], y = energydata_missing_lm_complete['Appliances'])"
      ],
      "metadata": {
        "id": "RtOOXJEyqNxs"
      },
      "execution_count": null,
      "outputs": []
    },
    {
      "cell_type": "code",
      "source": [
        "energydata_missing_lm['Appliances'].isnull()"
      ],
      "metadata": {
        "id": "hFX2ECG_rPs9"
      },
      "execution_count": null,
      "outputs": []
    },
    {
      "cell_type": "code",
      "source": [
        "variable_imputada = model.predict(energydata_missing_lm[parameters])[energydata_missing_lm['Appliances'].isnull()]"
      ],
      "metadata": {
        "id": "h_b6BHT8qgof"
      },
      "execution_count": null,
      "outputs": []
    },
    {
      "cell_type": "code",
      "source": [
        "variable_imputada"
      ],
      "metadata": {
        "id": "8-Ggra3BrgKI"
      },
      "execution_count": null,
      "outputs": []
    },
    {
      "cell_type": "code",
      "source": [
        "energydata_missing_lm['Appliances_imp'] = energydata_missing_lm['Appliances']"
      ],
      "metadata": {
        "id": "8qoGX_YlrixY"
      },
      "execution_count": null,
      "outputs": []
    },
    {
      "cell_type": "code",
      "source": [
        "energydata_missing_lm.describe().T"
      ],
      "metadata": {
        "id": "Ah3Y666yr8Uo"
      },
      "execution_count": null,
      "outputs": []
    },
    {
      "cell_type": "code",
      "source": [
        "energydata_missing_lm.loc[energydata_missing_lm['Appliances'].isnull(), 'Appliances_imp'] = variable_imputada"
      ],
      "metadata": {
        "id": "qWDuYmTFsA_N"
      },
      "execution_count": null,
      "outputs": []
    },
    {
      "cell_type": "code",
      "source": [
        "energydata_missing_lm.describe().T"
      ],
      "metadata": {
        "id": "Pew8LYtKsn8f"
      },
      "execution_count": null,
      "outputs": []
    },
    {
      "cell_type": "markdown",
      "source": [
        "Imputación con Random Forest"
      ],
      "metadata": {
        "id": "J2aIVnDutLo4"
      }
    },
    {
      "cell_type": "code",
      "source": [
        "energydata_missing_rf = energydata_missing.copy()\n",
        "energydata_missing_rf_complete = energydata_missing_rf[~energydata_missing_rf.Appliances.isna()]"
      ],
      "metadata": {
        "id": "F8CpUq0_stfc"
      },
      "execution_count": null,
      "outputs": []
    },
    {
      "cell_type": "code",
      "source": [
        "# Import the model we are using\n",
        "from sklearn.ensemble import RandomForestRegressor"
      ],
      "metadata": {
        "id": "z1glc3VvtfHk"
      },
      "execution_count": null,
      "outputs": []
    },
    {
      "cell_type": "code",
      "source": [
        "# La ejecución demora un poco porque el modelo construye N arboles\n",
        "model_rf = RandomForestRegressor(n_estimators = 100, random_state = 9)\n",
        "model_rf.fit(X = energydata_missing_rf_complete[parameters], y = energydata_missing_rf_complete['Appliances'])"
      ],
      "metadata": {
        "id": "OuFiVNott2Pw"
      },
      "execution_count": null,
      "outputs": []
    },
    {
      "cell_type": "code",
      "source": [
        "variable_imputada_rf = model_rf.predict(energydata_missing_rf[parameters])[energydata_missing_rf['Appliances'].isnull()]"
      ],
      "metadata": {
        "id": "RZebnLqMt99k"
      },
      "execution_count": null,
      "outputs": []
    },
    {
      "cell_type": "code",
      "source": [
        "energydata_missing_rf['Appliances_imp'] = energydata_missing_rf['Appliances']"
      ],
      "metadata": {
        "id": "Mc-X2TEQuHuP"
      },
      "execution_count": null,
      "outputs": []
    },
    {
      "cell_type": "code",
      "source": [
        "energydata_missing_rf.loc[energydata_missing_rf['Appliances'].isnull(), 'Appliances_imp'] = variable_imputada_rf"
      ],
      "metadata": {
        "id": "IRQkSqJGuRzI"
      },
      "execution_count": null,
      "outputs": []
    },
    {
      "cell_type": "code",
      "source": [
        "energydata_missing_lm[['Appliances_imp']].describe().T"
      ],
      "metadata": {
        "id": "9ZoVPwjxuboj"
      },
      "execution_count": null,
      "outputs": []
    },
    {
      "cell_type": "code",
      "source": [
        "energydata_missing_rf[['Appliances_imp']].describe().T"
      ],
      "metadata": {
        "id": "mDTJigIIvB3I"
      },
      "execution_count": null,
      "outputs": []
    },
    {
      "cell_type": "code",
      "source": [],
      "metadata": {
        "id": "6aTxtSc5vJuP"
      },
      "execution_count": null,
      "outputs": []
    }
  ],
  "metadata": {
    "kernelspec": {
      "display_name": "Python 3",
      "language": "python",
      "name": "python3"
    },
    "language_info": {
      "codemirror_mode": {
        "name": "ipython",
        "version": 3
      },
      "file_extension": ".py",
      "mimetype": "text/x-python",
      "name": "python",
      "nbconvert_exporter": "python",
      "pygments_lexer": "ipython3",
      "version": "3.8.3"
    },
    "colab": {
      "provenance": [],
      "toc_visible": true
    }
  },
  "nbformat": 4,
  "nbformat_minor": 0
}