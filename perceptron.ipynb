{
  "nbformat": 4,
  "nbformat_minor": 0,
  "metadata": {
    "colab": {
      "provenance": []
    },
    "kernelspec": {
      "name": "python3",
      "display_name": "Python 3"
    },
    "language_info": {
      "name": "python"
    }
  },
  "cells": [
    {
      "cell_type": "code",
      "source": [
        "import numpy as np\n",
        "import matplotlib.pyplot as plt\n",
        "\n"
      ],
      "metadata": {
        "id": "XE4xZVOUVChm"
      },
      "execution_count": 1,
      "outputs": []
    },
    {
      "cell_type": "code",
      "execution_count": 174,
      "metadata": {
        "id": "dfPxK4vyU98e"
      },
      "outputs": [],
      "source": [
        "def train_perceptron(X, y, eta = 1, epochs = 20):\n",
        "  #theta = np.zeros(len(X[0])+1)\n",
        "  #theta = [1,-1,1]\n",
        "  theta = np.random.randint(-10, 11, size=3)\n",
        "  print('theta_inicial', theta)\n",
        "  m = 0\n",
        "  X = np.insert(X, 0, 1, axis=1)\n",
        "  print(X)\n",
        "  for t in range(epochs):\n",
        "    for i, x in enumerate(X):\n",
        "      if y[i]*(np.dot(X[i],theta)) <= 0.0:\n",
        "        theta = theta + y[i]*X[i]\n",
        "        m +=1\n",
        "     \n",
        "  return theta, m"
      ]
    },
    {
      "cell_type": "code",
      "source": [
        "for i in range(100):\n",
        "  theta, m = train_perceptron(X,y, eta =1, epochs = 20)\n",
        "  print(theta)\n",
        "  print(m)\n",
        "  if m == 1:\n",
        "    break"
      ],
      "metadata": {
        "id": "5f50OXh7p_7i"
      },
      "execution_count": null,
      "outputs": []
    },
    {
      "cell_type": "code",
      "source": [
        "X=np.array([[-4,2],[-2,1],[-1, -1],[2,2],[1,-2]])\n",
        "y = np.array([1,1,-1,-1, -1])\n",
        "theta, m = train_perceptron(X,y)\n",
        "\n",
        "print(theta)\n",
        "print('m',m)\n",
        "plt.scatter(X[:,0],X[:,1], c = y)\n",
        "line_x = np.linspace(-5, 5, 100)\n",
        "line_y = -theta[1]/theta[2] * line_x - theta[0]/theta[2]\n",
        "\n",
        "# Plot the line\n",
        "plt.plot(line_x, line_y, color='red')\n",
        "plt.show()"
      ],
      "metadata": {
        "colab": {
          "base_uri": "https://localhost:8080/",
          "height": 404
        },
        "id": "eu8Uusm1VA2u",
        "outputId": "1dd58787-de4c-4c14-a95c-632ebab6db6c"
      },
      "execution_count": 171,
      "outputs": [
        {
          "output_type": "stream",
          "name": "stdout",
          "text": [
            "theta_inicial [1, -1, 1]\n",
            "[[ 1 -4  2]\n",
            " [ 1 -2  1]\n",
            " [ 1 -1 -1]\n",
            " [ 1  2  2]\n",
            " [ 1  1 -2]]\n",
            "[-2 -1  1]\n",
            "m 3\n"
          ]
        },
        {
          "output_type": "display_data",
          "data": {
            "text/plain": [
              "<Figure size 432x288 with 1 Axes>"
            ],
            "image/png": "[encoded data removed]"
          },
          "metadata": {
            "needs_background": "light"
          }
        }
      ]
    },
    {
      "cell_type": "code",
      "source": [
        "theta, m = train_perceptron(X,y)\n",
        "print(theta,m)"
      ],
      "metadata": {
        "colab": {
          "base_uri": "https://localhost:8080/"
        },
        "id": "CD0I9m-TVwKE",
        "outputId": "37191120-1046-44d6-8767-b184092dce81"
      },
      "execution_count": 159,
      "outputs": [
        {
          "output_type": "stream",
          "name": "stdout",
          "text": [
            "theta_inicial [1, -2, 2]\n",
            "[[ 1 -4  2]\n",
            " [ 1 -2  1]\n",
            " [ 1 -1 -1]\n",
            " [ 1  2  2]\n",
            " [ 1  1 -2]]\n",
            "[-2 -2  2] 3\n"
          ]
        }
      ]
    },
    {
      "cell_type": "code",
      "source": [
        "def train_perceptron_origin(X, y, eta = 1, epochs = 20):\n",
        "  theta = np.zeros(len(X[0])) #without a theta_0 = 0 (origin)\n",
        "  print('theta_inicial', theta)\n",
        "  m = 0  \n",
        "  print(X)\n",
        "  for t in range(epochs):\n",
        "    for i, x in enumerate(X):\n",
        "      if y[i]*(np.dot(X[i],theta)) <= 0.0:\n",
        "        theta = theta + y[i]*X[i]\n",
        "        print('theta_cambiado:', theta)\n",
        "        m +=1\n",
        "        print('mistake', m)\n",
        "  return theta, m"
      ],
      "metadata": {
        "id": "LAKLtusDFZ-E"
      },
      "execution_count": 5,
      "outputs": []
    },
    {
      "cell_type": "code",
      "source": [
        "X=np.array([[-1,0],[0,1]])\n",
        "y = np.array([1,1])\n",
        "\n",
        "\n",
        "#X=np.array([[1,0],[-1,-1],[-1, 10]])\n",
        "#y = np.array([-1,1,1])\n"
      ],
      "metadata": {
        "id": "osAG0Hs9FfNp"
      },
      "execution_count": 6,
      "outputs": []
    },
    {
      "cell_type": "code",
      "source": [
        "w, m = train_perceptron_origin(X,y)\n",
        "print(w)\n",
        "print(m)"
      ],
      "metadata": {
        "colab": {
          "base_uri": "https://localhost:8080/"
        },
        "id": "dwGdDf3bFk2D",
        "outputId": "1badb87c-9ae4-48f4-f76f-63f117e17f21"
      },
      "execution_count": 7,
      "outputs": [
        {
          "output_type": "stream",
          "name": "stdout",
          "text": [
            "theta_inicial [0. 0.]\n",
            "[[-1  0]\n",
            " [ 0  1]]\n",
            "theta_cambiado: [-1.  0.]\n",
            "mistake 1\n",
            "theta_cambiado: [-1.  1.]\n",
            "mistake 2\n",
            "[-1.  1.]\n",
            "2\n"
          ]
        }
      ]
    },
    {
      "cell_type": "markdown",
      "source": [],
      "metadata": {
        "id": "eB3K4wSOJ8Yz"
      }
    },
    {
      "cell_type": "code",
      "source": [],
      "metadata": {
        "id": "jPTJyszbMeA6"
      },
      "execution_count": null,
      "outputs": []
    }
  ]
}