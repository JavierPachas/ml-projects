{
  "nbformat": 4,
  "nbformat_minor": 0,
  "metadata": {
    "colab": {
      "provenance": [],
      "authorship_tag": "ABX9TyNauFNA4oLOt8B4g90uBmxr",
      "include_colab_link": true
    },
    "kernelspec": {
      "name": "python3",
      "display_name": "Python 3"
    },
    "language_info": {
      "name": "python"
    }
  },
  "cells": [
    {
      "cell_type": "markdown",
      "metadata": {
        "id": "view-in-github",
        "colab_type": "text"
      },
      "source": [
        "<a href=\"https://colab.research.google.com/github/JavierPachas/ml-projects/blob/main/perceptron_basic.ipynb\" target=\"_parent\"><img src=\"https://colab.research.google.com/assets/colab-badge.svg\" alt=\"Open In Colab\"/></a>"
      ]
    },
    {
      "cell_type": "code",
      "execution_count": 1,
      "metadata": {
        "id": "_NsOIjK5egOJ"
      },
      "outputs": [],
      "source": [
        "import numpy as np"
      ]
    },
    {
      "cell_type": "code",
      "source": [
        "points = np.array([[-1, -1], [1, 0], [-1, 1.5]])\n",
        "labels = np.array([1, -1, 1])\n",
        "\n",
        "T = 30\n",
        "theta = np.array([0, 0])\n",
        "#theta_0 = 0\n",
        "n_errors = 0\n",
        "\n",
        "for t in range(T):\n",
        "  for i in range(3):\n",
        "    if labels[i]*np.sum(theta*points[i]) <= 0:\n",
        "      theta = theta + labels[i]*points[i]\n",
        "      #theta_0 = theta_0 + label[i]\n",
        "      n_errors +=1\n",
        "\n",
        "\n"
      ],
      "metadata": {
        "id": "FV7vIdRkfG4J"
      },
      "execution_count": 19,
      "outputs": []
    },
    {
      "cell_type": "code",
      "source": [
        "theta"
      ],
      "metadata": {
        "colab": {
          "base_uri": "https://localhost:8080/"
        },
        "id": "4f_45UT7hwvm",
        "outputId": "57b953b9-38a1-4178-9e0a-fb6205c654f6"
      },
      "execution_count": 20,
      "outputs": [
        {
          "output_type": "execute_result",
          "data": {
            "text/plain": [
              "array([-2. ,  0.5])"
            ]
          },
          "metadata": {},
          "execution_count": 20
        }
      ]
    },
    {
      "cell_type": "code",
      "source": [
        "n_errors"
      ],
      "metadata": {
        "colab": {
          "base_uri": "https://localhost:8080/"
        },
        "id": "ozDZHbUfiQiu",
        "outputId": "bef206da-15a4-439b-e75e-04af3fb13209"
      },
      "execution_count": 21,
      "outputs": [
        {
          "output_type": "execute_result",
          "data": {
            "text/plain": [
              "2"
            ]
          },
          "metadata": {},
          "execution_count": 21
        }
      ]
    },
    {
      "cell_type": "code",
      "source": [
        "points = np.array([ [1, 0], [-1, 1.5], [-1, -1]])\n",
        "labels = np.array([ -1, 1, 1])\n",
        "\n",
        "T = 30\n",
        "theta = np.array([0, 0])\n",
        "#theta_0 = 0\n",
        "n_errors = 0\n",
        "\n",
        "for t in range(T):\n",
        "  for i in range(3):\n",
        "    if labels[i]*np.sum(theta*points[i]) <= 0:\n",
        "      theta = theta + labels[i]*points[i]\n",
        "      #theta_0 = theta_0 + label[i]\n",
        "      n_errors +=1"
      ],
      "metadata": {
        "id": "XqphQNVJiY33"
      },
      "execution_count": 22,
      "outputs": []
    },
    {
      "cell_type": "code",
      "source": [
        "theta"
      ],
      "metadata": {
        "colab": {
          "base_uri": "https://localhost:8080/"
        },
        "id": "FZiT51w2kApy",
        "outputId": "fcd11f63-93bf-4241-b78b-8f453494d5f9"
      },
      "execution_count": 23,
      "outputs": [
        {
          "output_type": "execute_result",
          "data": {
            "text/plain": [
              "array([-1.,  0.])"
            ]
          },
          "metadata": {},
          "execution_count": 23
        }
      ]
    },
    {
      "cell_type": "code",
      "source": [
        "n_errors"
      ],
      "metadata": {
        "colab": {
          "base_uri": "https://localhost:8080/"
        },
        "id": "VIAQq74_kCd9",
        "outputId": "72724825-3ac3-464c-b7df-7f5abbecb836"
      },
      "execution_count": 24,
      "outputs": [
        {
          "output_type": "execute_result",
          "data": {
            "text/plain": [
              "1"
            ]
          },
          "metadata": {},
          "execution_count": 24
        }
      ]
    },
    {
      "cell_type": "code",
      "source": [
        "points = np.array([ [1, -4, 2], [1, -2, 1], [1, -1, -1], [1, 2, 2], [1,1,-2]])\n",
        "labels = np.array([ 1, 1, -1, -1, -1])\n",
        "\n",
        "misclassified = [1, 0, 2, 1, 0]\n",
        "\n",
        "T = 30\n",
        "theta = np.array([0, 0, 0])\n",
        "\n",
        "for t in range(T):\n",
        "  for i in range(5):\n",
        "    if labels[i]*np.sum(theta*points[i]) <= 0:\n",
        "      theta = theta + labels[i]*points[i]\n",
        ""
      ],
      "metadata": {
        "id": "2rPlHpbKmnx7"
      },
      "execution_count": 37,
      "outputs": []
    },
    {
      "cell_type": "code",
      "source": [
        "theta"
      ],
      "metadata": {
        "colab": {
          "base_uri": "https://localhost:8080/"
        },
        "id": "MCtOdEUArv2B",
        "outputId": "b3c11254-e06b-4d4a-a9d0-8ba4f139024e"
      },
      "execution_count": 38,
      "outputs": [
        {
          "output_type": "execute_result",
          "data": {
            "text/plain": [
              "array([-3, -3,  3])"
            ]
          },
          "metadata": {},
          "execution_count": 38
        }
      ]
    },
    {
      "cell_type": "code",
      "source": [
        "theta = [0, 0, 0]\n",
        "frecuencias = [1, 0, 2,1, 0]\n",
        "\n",
        "for i in range(5):\n",
        "  theta = theta + frecuencias[i]*labels[i]*points[i]"
      ],
      "metadata": {
        "id": "NHf6Mu3Cn_20"
      },
      "execution_count": 35,
      "outputs": []
    },
    {
      "cell_type": "code",
      "source": [
        "theta"
      ],
      "metadata": {
        "colab": {
          "base_uri": "https://localhost:8080/"
        },
        "id": "bPAErGwUoAxC",
        "outputId": "f0fb4246-5fff-4492-d8f6-e46367cddaf2"
      },
      "execution_count": 36,
      "outputs": [
        {
          "output_type": "execute_result",
          "data": {
            "text/plain": [
              "array([-2, -4,  2])"
            ]
          },
          "metadata": {},
          "execution_count": 36
        }
      ]
    },
    {
      "cell_type": "code",
      "source": [],
      "metadata": {
        "id": "Of0qk8K2p0PJ"
      },
      "execution_count": null,
      "outputs": []
    }
  ]
}